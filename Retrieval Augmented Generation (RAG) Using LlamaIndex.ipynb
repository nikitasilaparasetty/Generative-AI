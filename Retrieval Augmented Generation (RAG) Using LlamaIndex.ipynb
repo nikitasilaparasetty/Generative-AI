{
 "cells": [
  {
   "cell_type": "markdown",
   "id": "f4a8f84d-1314-4cde-9f1d-bd77d0a13109",
   "metadata": {},
   "source": [
    "# Retrieval Augmented Generation (RAG) Using LlamaIndex"
   ]
  },
  {
   "cell_type": "markdown",
   "id": "a890e57a-2a54-46fa-83ee-cea50fec1af3",
   "metadata": {},
   "source": [
    "## Objective\n",
    "\n",
    "The objective of this project is to create a RAG model for a given document. \n",
    "\n",
    "\n",
    "## Requirements\n",
    "*This project works best with an online coding IDE like Google Colab. At times, using a local system can cause an error.*\n",
    "\n",
    "1. **Python 3.x**\n",
    "\n",
    "2. **Python Libraries**\n",
    "    * openai\n",
    "    * llama-index\n",
    "    * python-dotenv\n",
    "    * os\n",
    "3. **Open AI Key**\n",
    "4. **An external file to use as the reference**\n",
    "\n",
    "\n",
    "## Quick Introduction to RAG\n",
    "\n",
    "### What is RAG?\n",
    "\n",
    "Retrieval-Augmented Generation (RAG) is a Natural Language Processing (NLP) technique that combines generative Large Language Models (LLMs) with information retrieval systems. RAG is used to improve the LLM's responses by knowledge taken from external sources to generate more accurate and relevant text.\n",
    "\n",
    "\n",
    "### How does RAG work?\n",
    "\n",
    "The mechanism of a RAG model is as follows:\n",
    "* Retrieval: RAG uses search algorithms to query external data like databases, knowledge bases, and web pages.\n",
    "* Pre-processing: It then prepares the retrieved information by performing tokenization, stemming, and removal of stop words.\n",
    "* Integration: Finally, it incorporates the pre-processed information into the LLM, allowing it to generate better responses."
   ]
  },
  {
   "cell_type": "markdown",
   "id": "7e92093e-54e2-4979-aa17-7cfff6b187dd",
   "metadata": {},
   "source": [
    "***\n"
   ]
  },
  {
   "cell_type": "markdown",
   "id": "f60fd1a4-1222-4b89-a728-e8c66c36ee58",
   "metadata": {},
   "source": [
    "## Program"
   ]
  },
  {
   "cell_type": "markdown",
   "id": "84688df0-a1fe-4544-b6af-beecc7d49eb4",
   "metadata": {},
   "source": [
    "### Perform the Necessary Installations (Skip if Completed)"
   ]
  },
  {
   "cell_type": "code",
   "execution_count": null,
   "id": "-BoY10yb1Vy0",
   "metadata": {
    "colab": {
     "base_uri": "https://localhost:8080/"
    },
    "id": "-BoY10yb1Vy0",
    "outputId": "f287aaba-8028-489f-f71d-ecc8227c22c9"
   },
   "outputs": [],
   "source": [
    "!pip install openai # To access the OpenAI REST API"
   ]
  },
  {
   "cell_type": "code",
   "execution_count": null,
   "id": "L4er3ZLC1QWT",
   "metadata": {
    "colab": {
     "base_uri": "https://localhost:8080/"
    },
    "id": "L4er3ZLC1QWT",
    "outputId": "95c5b7d4-75d1-4f44-fa33-a31d40c9ad72"
   },
   "outputs": [],
   "source": [
    "!pip install llama-index # To access a collection of classes that can be used for LLM applications"
   ]
  },
  {
   "cell_type": "code",
   "execution_count": null,
   "id": "G2BdNl401QrH",
   "metadata": {
    "colab": {
     "base_uri": "https://localhost:8080/"
    },
    "id": "G2BdNl401QrH",
    "outputId": "5e6b6964-919c-406c-c153-d5919f8de78a"
   },
   "outputs": [],
   "source": [
    "!pip install python-dotenv # To read key-value pairs from a '.env' file and set them as environment variables"
   ]
  },
  {
   "cell_type": "markdown",
   "id": "c15d31b5-2ad1-41e1-9e57-4ade177eb262",
   "metadata": {},
   "source": [
    "### Import the Necessary Libraries"
   ]
  },
  {
   "cell_type": "code",
   "execution_count": null,
   "id": "6abccd55-7ed1-4ad4-ba9b-54b473b54a25",
   "metadata": {
    "id": "6da64bd8-09d3-446f-98b0-f9d2da194b8a"
   },
   "outputs": [],
   "source": [
    "import os  \n",
    "# To interact with the operating system\n",
    "\n",
    "import openai \n",
    "# To access the OpenAI REST API\n",
    "\n",
    "from llama_index.core import SimpleDirectoryReader \n",
    "# To load data from local or remote files into LlamaIndex\n",
    "\n",
    "from dotenv import load_dotenv\n",
    "# To load env variable\n",
    "\n",
    "from llama_index.core import GPTVectorStoreIndex\n",
    "# An index for storing and retrieving document vectors, potentially using embeddings generated from a model like GPT "
   ]
  },
  {
   "cell_type": "markdown",
   "id": "f55897cb-8a8e-4aa2-bcda-1a0ce7948ca5",
   "metadata": {
    "tags": []
   },
   "source": [
    "### Access the OpenAI Key"
   ]
  },
  {
   "cell_type": "code",
   "execution_count": null,
   "id": "6f45d639-2d93-4b13-b9de-dc3d267b9c07",
   "metadata": {
    "id": "6f45d639-2d93-4b13-b9de-dc3d267b9c07"
   },
   "outputs": [],
   "source": [
    "# Access the OpenAI Key from the dotenv.ipynb file\n",
    "\n",
    "load_dotenv()\n",
    "key = os.getenv('MYKEY')\n"
   ]
  },
  {
   "cell_type": "code",
   "execution_count": null,
   "id": "166294e3-3417-4b0e-ba2d-aa6a6fd0fbc7",
   "metadata": {
    "id": "166294e3-3417-4b0e-ba2d-aa6a6fd0fbc7"
   },
   "outputs": [],
   "source": [
    "openai.api_key = key"
   ]
  },
  {
   "cell_type": "markdown",
   "id": "395e6cb6-7457-4523-8bd2-3cc3a949c259",
   "metadata": {},
   "source": [
    "### Upload the Required Document"
   ]
  },
  {
   "cell_type": "code",
   "execution_count": null,
   "id": "c707bbb9-7a74-4c6a-a8c4-2ef77e9d055d",
   "metadata": {
    "id": "c707bbb9-7a74-4c6a-a8c4-2ef77e9d055d"
   },
   "outputs": [],
   "source": [
    "# Upload the document from the 'data' folder\n",
    "\n",
    "document = SimpleDirectoryReader(\"data\").load_data()"
   ]
  },
  {
   "cell_type": "code",
   "execution_count": null,
   "id": "68160132-8f7b-40b0-8749-c9a71261600d",
   "metadata": {
    "colab": {
     "base_uri": "https://localhost:8080/"
    },
    "id": "68160132-8f7b-40b0-8749-c9a71261600d",
    "outputId": "e0b37535-c33f-46f3-8e07-e44bee692d65",
    "tags": []
   },
   "outputs": [],
   "source": [
    "# View the document \n",
    "\n",
    "document"
   ]
  },
  {
   "cell_type": "markdown",
   "id": "7a852cd4-0ce8-4bcc-a861-aa58c7cd30ed",
   "metadata": {},
   "source": [
    "### Create an Index for the Given Document"
   ]
  },
  {
   "cell_type": "code",
   "execution_count": null,
   "id": "cfb1994d-878d-4f2b-90ac-59331fc85d07",
   "metadata": {
    "colab": {
     "base_uri": "https://localhost:8080/",
     "height": 81,
     "referenced_widgets": [
      "7ba09192bafa419297c51db20f435a56",
      "33353c25b159492b930ed1ca49341a54",
      "108f2cf129fd4f878d7dd968989e9589",
      "0162adbbde254eca89a94b280f11a7b2",
      "d7207aa41e5b4791a3267ed7964c34df",
      "5bbba4b5968c4d168bb1990a13b6844e",
      "21cebe8d7c614ea3adcc92b6ee9e3836",
      "c9c03483b9784dbc9cf358415bc51688",
      "29c8061ba2394b8297ccfd556d562711",
      "dfeff54db85d4484854245aeb27ef029",
      "62bfc282354644be894bf2a9bb23b32e",
      "9245b98d2ece46369f5edda75caf9f78",
      "8e73d7d84eb24a0aa4de8c9eeb21118c",
      "10aa7e361f824fdd82f5631ffab1e7df",
      "2fe0ce33f896497083c96082bf374a2c",
      "c8b7c85dc4f34d0a931295390f89eeb4",
      "522827145f7e4ed1a486a47f4675e289",
      "35fb589406a242958f1690949e179f36",
      "3325cc120a7a41189a707b2800f07fc5",
      "29da8858d4684ff290aa98d71de35f72",
      "2357080e4bb9475e86ee529b7d3d8bcc",
      "58828449538b468884c44631452d12e1"
     ]
    },
    "id": "cfb1994d-878d-4f2b-90ac-59331fc85d07",
    "outputId": "bb07fd32-816a-48e4-933c-e7658f1bf4fc"
   },
   "outputs": [],
   "source": [
    "# Create an ndex from the specified document\n",
    "\n",
    "index= GPTVectorStoreIndex.from_documents(document,show_progress=True)"
   ]
  },
  {
   "cell_type": "code",
   "execution_count": null,
   "id": "ccea4e23-75d4-4a94-90de-410c89d0e9e5",
   "metadata": {
    "colab": {
     "base_uri": "https://localhost:8080/"
    },
    "id": "ccea4e23-75d4-4a94-90de-410c89d0e9e5",
    "outputId": "b7c3d4ed-533a-4739-d7b5-63b614db13e9"
   },
   "outputs": [],
   "source": [
    "# View the ndex\n",
    "\n",
    "index"
   ]
  },
  {
   "cell_type": "markdown",
   "id": "6c1d5215-f3b5-48b0-9026-6413ee93b48d",
   "metadata": {},
   "source": [
    "### Convert the Index Into a Query Engine, Ask a Question, and View the Response"
   ]
  },
  {
   "cell_type": "code",
   "execution_count": null,
   "id": "d8e22b6b-6411-44b0-9d37-94493780a30b",
   "metadata": {
    "id": "b74d64bc-5aee-42f5-9a78-7d52ce399583"
   },
   "outputs": [],
   "source": [
    "# Convert the index into a query engine to perform searches or queries against the indexed documents\n",
    "\n",
    "query_engine=index.as_query_engine()\n",
    "\n",
    "# Processes the input and search the indexed documents for relevant information that matches the query\n",
    "response=query_engine.query(\"who os the chairman\")"
   ]
  },
  {
   "cell_type": "code",
   "execution_count": null,
   "id": "343ad518-43be-4e83-91f4-1e3d9bc1a785",
   "metadata": {
    "colab": {
     "base_uri": "https://localhost:8080/"
    },
    "id": "343ad518-43be-4e83-91f4-1e3d9bc1a785",
    "outputId": "e65b54df-51b7-477b-d395-f6d10c936f5a"
   },
   "outputs": [],
   "source": [
    "# Print the response\n",
    "\n",
    "print(response)"
   ]
  },
  {
   "cell_type": "code",
   "execution_count": null,
   "id": "49cf2000-edaf-40a2-9e11-ee9067da1f04",
   "metadata": {
    "id": "49cf2000-edaf-40a2-9e11-ee9067da1f04"
   },
   "outputs": [],
   "source": []
  }
 ],
 "metadata": {
  "colab": {
   "provenance": []
  },
  "kernelspec": {
   "display_name": "Python 3 (ipykernel)",
   "language": "python",
   "name": "python3"
  },
  "language_info": {
   "codemirror_mode": {
    "name": "ipython",
    "version": 3
   },
   "file_extension": ".py",
   "mimetype": "text/x-python",
   "name": "python",
   "nbconvert_exporter": "python",
   "pygments_lexer": "ipython3",
   "version": "3.10.12"
  },
  "widgets": {
   "application/vnd.jupyter.widget-state+json": {
    "0162adbbde254eca89a94b280f11a7b2": {
     "model_module": "@jupyter-widgets/controls",
     "model_module_version": "1.5.0",
     "model_name": "HTMLModel",
     "state": {
      "_dom_classes": [],
      "_model_module": "@jupyter-widgets/controls",
      "_model_module_version": "1.5.0",
      "_model_name": "HTMLModel",
      "_view_count": null,
      "_view_module": "@jupyter-widgets/controls",
      "_view_module_version": "1.5.0",
      "_view_name": "HTMLView",
      "description": "",
      "description_tooltip": null,
      "layout": "IPY_MODEL_dfeff54db85d4484854245aeb27ef029",
      "placeholder": "​",
      "style": "IPY_MODEL_62bfc282354644be894bf2a9bb23b32e",
      "value": " 364/364 [00:00&lt;00:00, 609.78it/s]"
     }
    },
    "108f2cf129fd4f878d7dd968989e9589": {
     "model_module": "@jupyter-widgets/controls",
     "model_module_version": "1.5.0",
     "model_name": "FloatProgressModel",
     "state": {
      "_dom_classes": [],
      "_model_module": "@jupyter-widgets/controls",
      "_model_module_version": "1.5.0",
      "_model_name": "FloatProgressModel",
      "_view_count": null,
      "_view_module": "@jupyter-widgets/controls",
      "_view_module_version": "1.5.0",
      "_view_name": "ProgressView",
      "bar_style": "success",
      "description": "",
      "description_tooltip": null,
      "layout": "IPY_MODEL_c9c03483b9784dbc9cf358415bc51688",
      "max": 364,
      "min": 0,
      "orientation": "horizontal",
      "style": "IPY_MODEL_29c8061ba2394b8297ccfd556d562711",
      "value": 364
     }
    },
    "10aa7e361f824fdd82f5631ffab1e7df": {
     "model_module": "@jupyter-widgets/controls",
     "model_module_version": "1.5.0",
     "model_name": "FloatProgressModel",
     "state": {
      "_dom_classes": [],
      "_model_module": "@jupyter-widgets/controls",
      "_model_module_version": "1.5.0",
      "_model_name": "FloatProgressModel",
      "_view_count": null,
      "_view_module": "@jupyter-widgets/controls",
      "_view_module_version": "1.5.0",
      "_view_name": "ProgressView",
      "bar_style": "success",
      "description": "",
      "description_tooltip": null,
      "layout": "IPY_MODEL_3325cc120a7a41189a707b2800f07fc5",
      "max": 460,
      "min": 0,
      "orientation": "horizontal",
      "style": "IPY_MODEL_29da8858d4684ff290aa98d71de35f72",
      "value": 460
     }
    },
    "21cebe8d7c614ea3adcc92b6ee9e3836": {
     "model_module": "@jupyter-widgets/controls",
     "model_module_version": "1.5.0",
     "model_name": "DescriptionStyleModel",
     "state": {
      "_model_module": "@jupyter-widgets/controls",
      "_model_module_version": "1.5.0",
      "_model_name": "DescriptionStyleModel",
      "_view_count": null,
      "_view_module": "@jupyter-widgets/base",
      "_view_module_version": "1.2.0",
      "_view_name": "StyleView",
      "description_width": ""
     }
    },
    "2357080e4bb9475e86ee529b7d3d8bcc": {
     "model_module": "@jupyter-widgets/base",
     "model_module_version": "1.2.0",
     "model_name": "LayoutModel",
     "state": {
      "_model_module": "@jupyter-widgets/base",
      "_model_module_version": "1.2.0",
      "_model_name": "LayoutModel",
      "_view_count": null,
      "_view_module": "@jupyter-widgets/base",
      "_view_module_version": "1.2.0",
      "_view_name": "LayoutView",
      "align_content": null,
      "align_items": null,
      "align_self": null,
      "border": null,
      "bottom": null,
      "display": null,
      "flex": null,
      "flex_flow": null,
      "grid_area": null,
      "grid_auto_columns": null,
      "grid_auto_flow": null,
      "grid_auto_rows": null,
      "grid_column": null,
      "grid_gap": null,
      "grid_row": null,
      "grid_template_areas": null,
      "grid_template_columns": null,
      "grid_template_rows": null,
      "height": null,
      "justify_content": null,
      "justify_items": null,
      "left": null,
      "margin": null,
      "max_height": null,
      "max_width": null,
      "min_height": null,
      "min_width": null,
      "object_fit": null,
      "object_position": null,
      "order": null,
      "overflow": null,
      "overflow_x": null,
      "overflow_y": null,
      "padding": null,
      "right": null,
      "top": null,
      "visibility": null,
      "width": null
     }
    },
    "29c8061ba2394b8297ccfd556d562711": {
     "model_module": "@jupyter-widgets/controls",
     "model_module_version": "1.5.0",
     "model_name": "ProgressStyleModel",
     "state": {
      "_model_module": "@jupyter-widgets/controls",
      "_model_module_version": "1.5.0",
      "_model_name": "ProgressStyleModel",
      "_view_count": null,
      "_view_module": "@jupyter-widgets/base",
      "_view_module_version": "1.2.0",
      "_view_name": "StyleView",
      "bar_color": null,
      "description_width": ""
     }
    },
    "29da8858d4684ff290aa98d71de35f72": {
     "model_module": "@jupyter-widgets/controls",
     "model_module_version": "1.5.0",
     "model_name": "ProgressStyleModel",
     "state": {
      "_model_module": "@jupyter-widgets/controls",
      "_model_module_version": "1.5.0",
      "_model_name": "ProgressStyleModel",
      "_view_count": null,
      "_view_module": "@jupyter-widgets/base",
      "_view_module_version": "1.2.0",
      "_view_name": "StyleView",
      "bar_color": null,
      "description_width": ""
     }
    },
    "2fe0ce33f896497083c96082bf374a2c": {
     "model_module": "@jupyter-widgets/controls",
     "model_module_version": "1.5.0",
     "model_name": "HTMLModel",
     "state": {
      "_dom_classes": [],
      "_model_module": "@jupyter-widgets/controls",
      "_model_module_version": "1.5.0",
      "_model_name": "HTMLModel",
      "_view_count": null,
      "_view_module": "@jupyter-widgets/controls",
      "_view_module_version": "1.5.0",
      "_view_name": "HTMLView",
      "description": "",
      "description_tooltip": null,
      "layout": "IPY_MODEL_2357080e4bb9475e86ee529b7d3d8bcc",
      "placeholder": "​",
      "style": "IPY_MODEL_58828449538b468884c44631452d12e1",
      "value": " 460/460 [00:08&lt;00:00, 58.59it/s]"
     }
    },
    "3325cc120a7a41189a707b2800f07fc5": {
     "model_module": "@jupyter-widgets/base",
     "model_module_version": "1.2.0",
     "model_name": "LayoutModel",
     "state": {
      "_model_module": "@jupyter-widgets/base",
      "_model_module_version": "1.2.0",
      "_model_name": "LayoutModel",
      "_view_count": null,
      "_view_module": "@jupyter-widgets/base",
      "_view_module_version": "1.2.0",
      "_view_name": "LayoutView",
      "align_content": null,
      "align_items": null,
      "align_self": null,
      "border": null,
      "bottom": null,
      "display": null,
      "flex": null,
      "flex_flow": null,
      "grid_area": null,
      "grid_auto_columns": null,
      "grid_auto_flow": null,
      "grid_auto_rows": null,
      "grid_column": null,
      "grid_gap": null,
      "grid_row": null,
      "grid_template_areas": null,
      "grid_template_columns": null,
      "grid_template_rows": null,
      "height": null,
      "justify_content": null,
      "justify_items": null,
      "left": null,
      "margin": null,
      "max_height": null,
      "max_width": null,
      "min_height": null,
      "min_width": null,
      "object_fit": null,
      "object_position": null,
      "order": null,
      "overflow": null,
      "overflow_x": null,
      "overflow_y": null,
      "padding": null,
      "right": null,
      "top": null,
      "visibility": null,
      "width": null
     }
    },
    "33353c25b159492b930ed1ca49341a54": {
     "model_module": "@jupyter-widgets/controls",
     "model_module_version": "1.5.0",
     "model_name": "HTMLModel",
     "state": {
      "_dom_classes": [],
      "_model_module": "@jupyter-widgets/controls",
      "_model_module_version": "1.5.0",
      "_model_name": "HTMLModel",
      "_view_count": null,
      "_view_module": "@jupyter-widgets/controls",
      "_view_module_version": "1.5.0",
      "_view_name": "HTMLView",
      "description": "",
      "description_tooltip": null,
      "layout": "IPY_MODEL_5bbba4b5968c4d168bb1990a13b6844e",
      "placeholder": "​",
      "style": "IPY_MODEL_21cebe8d7c614ea3adcc92b6ee9e3836",
      "value": "Parsing nodes: 100%"
     }
    },
    "35fb589406a242958f1690949e179f36": {
     "model_module": "@jupyter-widgets/controls",
     "model_module_version": "1.5.0",
     "model_name": "DescriptionStyleModel",
     "state": {
      "_model_module": "@jupyter-widgets/controls",
      "_model_module_version": "1.5.0",
      "_model_name": "DescriptionStyleModel",
      "_view_count": null,
      "_view_module": "@jupyter-widgets/base",
      "_view_module_version": "1.2.0",
      "_view_name": "StyleView",
      "description_width": ""
     }
    },
    "522827145f7e4ed1a486a47f4675e289": {
     "model_module": "@jupyter-widgets/base",
     "model_module_version": "1.2.0",
     "model_name": "LayoutModel",
     "state": {
      "_model_module": "@jupyter-widgets/base",
      "_model_module_version": "1.2.0",
      "_model_name": "LayoutModel",
      "_view_count": null,
      "_view_module": "@jupyter-widgets/base",
      "_view_module_version": "1.2.0",
      "_view_name": "LayoutView",
      "align_content": null,
      "align_items": null,
      "align_self": null,
      "border": null,
      "bottom": null,
      "display": null,
      "flex": null,
      "flex_flow": null,
      "grid_area": null,
      "grid_auto_columns": null,
      "grid_auto_flow": null,
      "grid_auto_rows": null,
      "grid_column": null,
      "grid_gap": null,
      "grid_row": null,
      "grid_template_areas": null,
      "grid_template_columns": null,
      "grid_template_rows": null,
      "height": null,
      "justify_content": null,
      "justify_items": null,
      "left": null,
      "margin": null,
      "max_height": null,
      "max_width": null,
      "min_height": null,
      "min_width": null,
      "object_fit": null,
      "object_position": null,
      "order": null,
      "overflow": null,
      "overflow_x": null,
      "overflow_y": null,
      "padding": null,
      "right": null,
      "top": null,
      "visibility": null,
      "width": null
     }
    },
    "58828449538b468884c44631452d12e1": {
     "model_module": "@jupyter-widgets/controls",
     "model_module_version": "1.5.0",
     "model_name": "DescriptionStyleModel",
     "state": {
      "_model_module": "@jupyter-widgets/controls",
      "_model_module_version": "1.5.0",
      "_model_name": "DescriptionStyleModel",
      "_view_count": null,
      "_view_module": "@jupyter-widgets/base",
      "_view_module_version": "1.2.0",
      "_view_name": "StyleView",
      "description_width": ""
     }
    },
    "5bbba4b5968c4d168bb1990a13b6844e": {
     "model_module": "@jupyter-widgets/base",
     "model_module_version": "1.2.0",
     "model_name": "LayoutModel",
     "state": {
      "_model_module": "@jupyter-widgets/base",
      "_model_module_version": "1.2.0",
      "_model_name": "LayoutModel",
      "_view_count": null,
      "_view_module": "@jupyter-widgets/base",
      "_view_module_version": "1.2.0",
      "_view_name": "LayoutView",
      "align_content": null,
      "align_items": null,
      "align_self": null,
      "border": null,
      "bottom": null,
      "display": null,
      "flex": null,
      "flex_flow": null,
      "grid_area": null,
      "grid_auto_columns": null,
      "grid_auto_flow": null,
      "grid_auto_rows": null,
      "grid_column": null,
      "grid_gap": null,
      "grid_row": null,
      "grid_template_areas": null,
      "grid_template_columns": null,
      "grid_template_rows": null,
      "height": null,
      "justify_content": null,
      "justify_items": null,
      "left": null,
      "margin": null,
      "max_height": null,
      "max_width": null,
      "min_height": null,
      "min_width": null,
      "object_fit": null,
      "object_position": null,
      "order": null,
      "overflow": null,
      "overflow_x": null,
      "overflow_y": null,
      "padding": null,
      "right": null,
      "top": null,
      "visibility": null,
      "width": null
     }
    },
    "62bfc282354644be894bf2a9bb23b32e": {
     "model_module": "@jupyter-widgets/controls",
     "model_module_version": "1.5.0",
     "model_name": "DescriptionStyleModel",
     "state": {
      "_model_module": "@jupyter-widgets/controls",
      "_model_module_version": "1.5.0",
      "_model_name": "DescriptionStyleModel",
      "_view_count": null,
      "_view_module": "@jupyter-widgets/base",
      "_view_module_version": "1.2.0",
      "_view_name": "StyleView",
      "description_width": ""
     }
    },
    "7ba09192bafa419297c51db20f435a56": {
     "model_module": "@jupyter-widgets/controls",
     "model_module_version": "1.5.0",
     "model_name": "HBoxModel",
     "state": {
      "_dom_classes": [],
      "_model_module": "@jupyter-widgets/controls",
      "_model_module_version": "1.5.0",
      "_model_name": "HBoxModel",
      "_view_count": null,
      "_view_module": "@jupyter-widgets/controls",
      "_view_module_version": "1.5.0",
      "_view_name": "HBoxView",
      "box_style": "",
      "children": [
       "IPY_MODEL_33353c25b159492b930ed1ca49341a54",
       "IPY_MODEL_108f2cf129fd4f878d7dd968989e9589",
       "IPY_MODEL_0162adbbde254eca89a94b280f11a7b2"
      ],
      "layout": "IPY_MODEL_d7207aa41e5b4791a3267ed7964c34df"
     }
    },
    "8e73d7d84eb24a0aa4de8c9eeb21118c": {
     "model_module": "@jupyter-widgets/controls",
     "model_module_version": "1.5.0",
     "model_name": "HTMLModel",
     "state": {
      "_dom_classes": [],
      "_model_module": "@jupyter-widgets/controls",
      "_model_module_version": "1.5.0",
      "_model_name": "HTMLModel",
      "_view_count": null,
      "_view_module": "@jupyter-widgets/controls",
      "_view_module_version": "1.5.0",
      "_view_name": "HTMLView",
      "description": "",
      "description_tooltip": null,
      "layout": "IPY_MODEL_522827145f7e4ed1a486a47f4675e289",
      "placeholder": "​",
      "style": "IPY_MODEL_35fb589406a242958f1690949e179f36",
      "value": "Generating embeddings: 100%"
     }
    },
    "9245b98d2ece46369f5edda75caf9f78": {
     "model_module": "@jupyter-widgets/controls",
     "model_module_version": "1.5.0",
     "model_name": "HBoxModel",
     "state": {
      "_dom_classes": [],
      "_model_module": "@jupyter-widgets/controls",
      "_model_module_version": "1.5.0",
      "_model_name": "HBoxModel",
      "_view_count": null,
      "_view_module": "@jupyter-widgets/controls",
      "_view_module_version": "1.5.0",
      "_view_name": "HBoxView",
      "box_style": "",
      "children": [
       "IPY_MODEL_8e73d7d84eb24a0aa4de8c9eeb21118c",
       "IPY_MODEL_10aa7e361f824fdd82f5631ffab1e7df",
       "IPY_MODEL_2fe0ce33f896497083c96082bf374a2c"
      ],
      "layout": "IPY_MODEL_c8b7c85dc4f34d0a931295390f89eeb4"
     }
    },
    "c8b7c85dc4f34d0a931295390f89eeb4": {
     "model_module": "@jupyter-widgets/base",
     "model_module_version": "1.2.0",
     "model_name": "LayoutModel",
     "state": {
      "_model_module": "@jupyter-widgets/base",
      "_model_module_version": "1.2.0",
      "_model_name": "LayoutModel",
      "_view_count": null,
      "_view_module": "@jupyter-widgets/base",
      "_view_module_version": "1.2.0",
      "_view_name": "LayoutView",
      "align_content": null,
      "align_items": null,
      "align_self": null,
      "border": null,
      "bottom": null,
      "display": null,
      "flex": null,
      "flex_flow": null,
      "grid_area": null,
      "grid_auto_columns": null,
      "grid_auto_flow": null,
      "grid_auto_rows": null,
      "grid_column": null,
      "grid_gap": null,
      "grid_row": null,
      "grid_template_areas": null,
      "grid_template_columns": null,
      "grid_template_rows": null,
      "height": null,
      "justify_content": null,
      "justify_items": null,
      "left": null,
      "margin": null,
      "max_height": null,
      "max_width": null,
      "min_height": null,
      "min_width": null,
      "object_fit": null,
      "object_position": null,
      "order": null,
      "overflow": null,
      "overflow_x": null,
      "overflow_y": null,
      "padding": null,
      "right": null,
      "top": null,
      "visibility": null,
      "width": null
     }
    },
    "c9c03483b9784dbc9cf358415bc51688": {
     "model_module": "@jupyter-widgets/base",
     "model_module_version": "1.2.0",
     "model_name": "LayoutModel",
     "state": {
      "_model_module": "@jupyter-widgets/base",
      "_model_module_version": "1.2.0",
      "_model_name": "LayoutModel",
      "_view_count": null,
      "_view_module": "@jupyter-widgets/base",
      "_view_module_version": "1.2.0",
      "_view_name": "LayoutView",
      "align_content": null,
      "align_items": null,
      "align_self": null,
      "border": null,
      "bottom": null,
      "display": null,
      "flex": null,
      "flex_flow": null,
      "grid_area": null,
      "grid_auto_columns": null,
      "grid_auto_flow": null,
      "grid_auto_rows": null,
      "grid_column": null,
      "grid_gap": null,
      "grid_row": null,
      "grid_template_areas": null,
      "grid_template_columns": null,
      "grid_template_rows": null,
      "height": null,
      "justify_content": null,
      "justify_items": null,
      "left": null,
      "margin": null,
      "max_height": null,
      "max_width": null,
      "min_height": null,
      "min_width": null,
      "object_fit": null,
      "object_position": null,
      "order": null,
      "overflow": null,
      "overflow_x": null,
      "overflow_y": null,
      "padding": null,
      "right": null,
      "top": null,
      "visibility": null,
      "width": null
     }
    },
    "d7207aa41e5b4791a3267ed7964c34df": {
     "model_module": "@jupyter-widgets/base",
     "model_module_version": "1.2.0",
     "model_name": "LayoutModel",
     "state": {
      "_model_module": "@jupyter-widgets/base",
      "_model_module_version": "1.2.0",
      "_model_name": "LayoutModel",
      "_view_count": null,
      "_view_module": "@jupyter-widgets/base",
      "_view_module_version": "1.2.0",
      "_view_name": "LayoutView",
      "align_content": null,
      "align_items": null,
      "align_self": null,
      "border": null,
      "bottom": null,
      "display": null,
      "flex": null,
      "flex_flow": null,
      "grid_area": null,
      "grid_auto_columns": null,
      "grid_auto_flow": null,
      "grid_auto_rows": null,
      "grid_column": null,
      "grid_gap": null,
      "grid_row": null,
      "grid_template_areas": null,
      "grid_template_columns": null,
      "grid_template_rows": null,
      "height": null,
      "justify_content": null,
      "justify_items": null,
      "left": null,
      "margin": null,
      "max_height": null,
      "max_width": null,
      "min_height": null,
      "min_width": null,
      "object_fit": null,
      "object_position": null,
      "order": null,
      "overflow": null,
      "overflow_x": null,
      "overflow_y": null,
      "padding": null,
      "right": null,
      "top": null,
      "visibility": null,
      "width": null
     }
    },
    "dfeff54db85d4484854245aeb27ef029": {
     "model_module": "@jupyter-widgets/base",
     "model_module_version": "1.2.0",
     "model_name": "LayoutModel",
     "state": {
      "_model_module": "@jupyter-widgets/base",
      "_model_module_version": "1.2.0",
      "_model_name": "LayoutModel",
      "_view_count": null,
      "_view_module": "@jupyter-widgets/base",
      "_view_module_version": "1.2.0",
      "_view_name": "LayoutView",
      "align_content": null,
      "align_items": null,
      "align_self": null,
      "border": null,
      "bottom": null,
      "display": null,
      "flex": null,
      "flex_flow": null,
      "grid_area": null,
      "grid_auto_columns": null,
      "grid_auto_flow": null,
      "grid_auto_rows": null,
      "grid_column": null,
      "grid_gap": null,
      "grid_row": null,
      "grid_template_areas": null,
      "grid_template_columns": null,
      "grid_template_rows": null,
      "height": null,
      "justify_content": null,
      "justify_items": null,
      "left": null,
      "margin": null,
      "max_height": null,
      "max_width": null,
      "min_height": null,
      "min_width": null,
      "object_fit": null,
      "object_position": null,
      "order": null,
      "overflow": null,
      "overflow_x": null,
      "overflow_y": null,
      "padding": null,
      "right": null,
      "top": null,
      "visibility": null,
      "width": null
     }
    }
   }
  }
 },
 "nbformat": 4,
 "nbformat_minor": 5
}
